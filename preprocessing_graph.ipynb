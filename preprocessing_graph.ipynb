{
 "cells": [
  {
   "cell_type": "code",
   "execution_count": 2,
   "metadata": {},
   "outputs": [],
   "source": [
    "import networkx as nx"
   ]
  },
  {
   "cell_type": "code",
   "execution_count": 3,
   "metadata": {},
   "outputs": [],
   "source": [
    "g = nx.read_edgelist('./data/sub_graph.csv', create_using=nx.DiGraph())"
   ]
  },
  {
   "cell_type": "code",
   "execution_count": 4,
   "metadata": {},
   "outputs": [
    {
     "name": "stdout",
     "output_type": "stream",
     "text": [
      "DiGraph with 1000 nodes and 2149 edges\n"
     ]
    }
   ],
   "source": [
    "print(g)"
   ]
  },
  {
   "cell_type": "code",
   "execution_count": 5,
   "metadata": {},
   "outputs": [
    {
     "name": "stdout",
     "output_type": "stream",
     "text": [
      "iteration:  0 \tlen of miss edges:  0\n",
      "iteration:  50 \tlen of miss edges:  50\n",
      "iteration:  100 \tlen of miss edges:  100\n",
      "iteration:  150 \tlen of miss edges:  150\n",
      "iteration:  200 \tlen of miss edges:  200\n",
      "iteration:  250 \tlen of miss edges:  250\n",
      "iteration:  300 \tlen of miss edges:  300\n",
      "iteration:  350 \tlen of miss edges:  349\n",
      "iteration:  400 \tlen of miss edges:  398\n",
      "iteration:  450 \tlen of miss edges:  447\n",
      "iteration:  500 \tlen of miss edges:  497\n",
      "iteration:  550 \tlen of miss edges:  547\n",
      "iteration:  600 \tlen of miss edges:  596\n",
      "iteration:  650 \tlen of miss edges:  646\n",
      "iteration:  700 \tlen of miss edges:  695\n",
      "iteration:  750 \tlen of miss edges:  744\n",
      "iteration:  800 \tlen of miss edges:  793\n",
      "iteration:  850 \tlen of miss edges:  843\n",
      "iteration:  900 \tlen of miss edges:  892\n",
      "iteration:  950 \tlen of miss edges:  940\n",
      "iteration:  1000 \tlen of miss edges:  987\n",
      "iteration:  1050 \tlen of miss edges:  1036\n",
      "iteration:  1100 \tlen of miss edges:  1086\n",
      "iteration:  1150 \tlen of miss edges:  1136\n",
      "iteration:  1200 \tlen of miss edges:  1186\n",
      "iteration:  1250 \tlen of miss edges:  1235\n",
      "iteration:  1300 \tlen of miss edges:  1284\n",
      "iteration:  1350 \tlen of miss edges:  1334\n",
      "iteration:  1400 \tlen of miss edges:  1382\n",
      "iteration:  1450 \tlen of miss edges:  1430\n",
      "iteration:  1500 \tlen of miss edges:  1480\n",
      "iteration:  1550 \tlen of miss edges:  1529\n",
      "iteration:  1600 \tlen of miss edges:  1578\n",
      "iteration:  1650 \tlen of miss edges:  1627\n",
      "iteration:  1700 \tlen of miss edges:  1676\n",
      "iteration:  1750 \tlen of miss edges:  1726\n",
      "iteration:  1800 \tlen of miss edges:  1773\n",
      "iteration:  1850 \tlen of miss edges:  1823\n",
      "iteration:  1900 \tlen of miss edges:  1872\n",
      "iteration:  1950 \tlen of miss edges:  1922\n",
      "iteration:  2000 \tlen of miss edges:  1970\n",
      "iteration:  2050 \tlen of miss edges:  2020\n",
      "iteration:  2100 \tlen of miss edges:  2068\n",
      "iteration:  2150 \tlen of miss edges:  2117\n",
      "\n",
      "\n",
      "time taken:  0.01308751106262207\n"
     ]
    }
   ],
   "source": [
    "import pickle\n",
    "import random\n",
    "import time\n",
    "st = time.time()\n",
    "\n",
    "edges = dict()\n",
    "for edge in g.edges:\n",
    "    edges[(edge[0], edge[1])] = 1\n",
    "    \n",
    "missing_edges = set([])\n",
    "count = 0\n",
    "\n",
    "nodes = list(g.nodes)\n",
    "while (len(missing_edges)<2148):\n",
    "    if count % 50 == 0:\n",
    "        print('iteration: ', count, '\\tlen of miss edges: ', len(missing_edges))\n",
    "    count += 1\n",
    "    \n",
    "    a=random.choice(nodes)\n",
    "    b=random.choice(nodes)\n",
    "    tmp = edges.get((a,b),-1)\n",
    "    if tmp == -1 and a!=b:\n",
    "        try:\n",
    "            # adding points who less likely to be friends\n",
    "            if nx.shortest_path_length(g,source=a,target=b) > 2: \n",
    "                missing_edges.add((a,b))\n",
    "            else:\n",
    "                continue  \n",
    "        except:  \n",
    "                missing_edges.add((a,b))              \n",
    "    else:\n",
    "        continue\n",
    "        \n",
    "end = time.time()\n",
    "print('\\n\\ntime taken: ', end-st)"
   ]
  },
  {
   "cell_type": "code",
   "execution_count": 6,
   "metadata": {},
   "outputs": [],
   "source": [
    "pickle.dump(missing_edges,open('./data/missing_edges.p','wb'))"
   ]
  },
  {
   "cell_type": "code",
   "execution_count": 7,
   "metadata": {},
   "outputs": [
    {
     "data": {
      "text/plain": [
       "2148"
      ]
     },
     "execution_count": 7,
     "metadata": {},
     "output_type": "execute_result"
    }
   ],
   "source": [
    "len(missing_edges)"
   ]
  }
 ],
 "metadata": {
  "kernelspec": {
   "display_name": "env",
   "language": "python",
   "name": "python3"
  },
  "language_info": {
   "codemirror_mode": {
    "name": "ipython",
    "version": 3
   },
   "file_extension": ".py",
   "mimetype": "text/x-python",
   "name": "python",
   "nbconvert_exporter": "python",
   "pygments_lexer": "ipython3",
   "version": "3.10.11"
  }
 },
 "nbformat": 4,
 "nbformat_minor": 2
}
