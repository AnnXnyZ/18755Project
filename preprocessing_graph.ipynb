{
 "cells": [
  {
   "cell_type": "code",
   "execution_count": 34,
   "metadata": {},
   "outputs": [],
   "source": [
    "import networkx as nx"
   ]
  },
  {
   "cell_type": "code",
   "execution_count": 35,
   "metadata": {},
   "outputs": [],
   "source": [
    "g = nx.read_edgelist('./data/sub_graph_5.csv', create_using=nx.DiGraph(), delimiter=',', data = False)"
   ]
  },
  {
   "cell_type": "code",
   "execution_count": 36,
   "metadata": {},
   "outputs": [
    {
     "name": "stdout",
     "output_type": "stream",
     "text": [
      "DiGraph with 1002 nodes and 1037 edges\n"
     ]
    }
   ],
   "source": [
    "print(g)"
   ]
  },
  {
   "cell_type": "code",
   "execution_count": 37,
   "metadata": {},
   "outputs": [
    {
     "name": "stdout",
     "output_type": "stream",
     "text": [
      "iteration:  0 \tlen of miss edges:  0\n",
      "iteration:  50 \tlen of miss edges:  50\n",
      "iteration:  100 \tlen of miss edges:  100\n",
      "iteration:  150 \tlen of miss edges:  150\n",
      "iteration:  200 \tlen of miss edges:  200\n",
      "iteration:  250 \tlen of miss edges:  250\n",
      "iteration:  300 \tlen of miss edges:  299\n",
      "iteration:  350 \tlen of miss edges:  349\n",
      "iteration:  400 \tlen of miss edges:  399\n",
      "iteration:  450 \tlen of miss edges:  449\n",
      "iteration:  500 \tlen of miss edges:  499\n",
      "iteration:  550 \tlen of miss edges:  549\n",
      "iteration:  600 \tlen of miss edges:  599\n",
      "iteration:  650 \tlen of miss edges:  648\n",
      "iteration:  700 \tlen of miss edges:  698\n",
      "iteration:  750 \tlen of miss edges:  748\n",
      "iteration:  800 \tlen of miss edges:  798\n",
      "iteration:  850 \tlen of miss edges:  848\n",
      "iteration:  900 \tlen of miss edges:  898\n",
      "iteration:  950 \tlen of miss edges:  947\n",
      "iteration:  1000 \tlen of miss edges:  997\n",
      "\n",
      "\n",
      "time taken:  0.00650477409362793\n"
     ]
    }
   ],
   "source": [
    "import pickle\n",
    "import random\n",
    "import time\n",
    "st = time.time()\n",
    "\n",
    "edges = dict()\n",
    "for edge in g.edges:\n",
    "    edges[(edge[0], edge[1])] = 1\n",
    "number_of_edges = len(edges)\n",
    "    \n",
    "missing_edges = set([])\n",
    "count = 0\n",
    "\n",
    "nodes = list(g.nodes)\n",
    "while (len(missing_edges)<number_of_edges):\n",
    "    if count % 50 == 0:\n",
    "        print('iteration: ', count, '\\tlen of miss edges: ', len(missing_edges))\n",
    "    count += 1\n",
    "    \n",
    "    a=random.choice(nodes)\n",
    "    b=random.choice(nodes)\n",
    "    tmp = edges.get((a,b),-1)\n",
    "    if tmp == -1 and a!=b:\n",
    "        try:\n",
    "            # adding points who less likely to be friends\n",
    "            if nx.shortest_path_length(g,source=a,target=b) > 2: \n",
    "                missing_edges.add((a,b))\n",
    "            else:\n",
    "                continue  \n",
    "        except:  \n",
    "                missing_edges.add((a,b))              \n",
    "    else:\n",
    "        continue\n",
    "        \n",
    "end = time.time()\n",
    "print('\\n\\ntime taken: ', end-st)"
   ]
  },
  {
   "cell_type": "code",
   "execution_count": 38,
   "metadata": {},
   "outputs": [],
   "source": [
    "pickle.dump(missing_edges,open('./data/missing_edges.p','wb'))"
   ]
  },
  {
   "cell_type": "code",
   "execution_count": 39,
   "metadata": {},
   "outputs": [
    {
     "data": {
      "text/plain": [
       "1037"
      ]
     },
     "execution_count": 39,
     "metadata": {},
     "output_type": "execute_result"
    }
   ],
   "source": [
    "len(missing_edges)"
   ]
  }
 ],
 "metadata": {
  "kernelspec": {
   "display_name": "env",
   "language": "python",
   "name": "python3"
  },
  "language_info": {
   "codemirror_mode": {
    "name": "ipython",
    "version": 3
   },
   "file_extension": ".py",
   "mimetype": "text/x-python",
   "name": "python",
   "nbconvert_exporter": "python",
   "pygments_lexer": "ipython3",
   "version": "3.10.11"
  }
 },
 "nbformat": 4,
 "nbformat_minor": 2
}
