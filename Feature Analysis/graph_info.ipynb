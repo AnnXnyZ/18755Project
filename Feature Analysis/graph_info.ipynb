{
 "cells": [
  {
   "cell_type": "code",
   "execution_count": 3,
   "metadata": {},
   "outputs": [],
   "source": [
    "import networkx as nx\n",
    "import numpy as np\n",
    "\n",
    "edge_path = '../data/sub_graph_1.csv'\n",
    "data = np.genfromtxt(edge_path, delimiter=',', dtype=str, skip_header=1)\n",
    "data=[list( map(int,i) ) for i in data]\n",
    "G = nx.DiGraph()\n",
    "for row in data:\n",
    "    source_node, target_node = row\n",
    "    G.add_edge(source_node, target_node)"
   ]
  },
  {
   "cell_type": "code",
   "execution_count": 4,
   "metadata": {},
   "outputs": [
    {
     "name": "stdout",
     "output_type": "stream",
     "text": [
      "Number of nodes: 1000\n",
      "Number of edges: 1362\n",
      "\n",
      "Minimum degree: 1\n",
      "Maximum degree: 289\n",
      "Mean Degree: 2.724\n",
      "Median Degree: 1\n",
      "Mode Degree: 1\n"
     ]
    }
   ],
   "source": [
    "degrees = dict(G.degree())\n",
    "print(\"Number of nodes:\", G.number_of_nodes())\n",
    "print(\"Number of edges:\", G.number_of_edges())\n",
    "print(\"\\nMinimum degree:\", min(degrees.values()))\n",
    "print(\"Maximum degree:\", max(degrees.values()))\n",
    "print(\"Mean Degree:\", sum(degrees.values()) / len(G))\n",
    "degree_sequence = sorted((d for n, d in G.degree()), reverse=True)\n",
    "node_counts = np.unique(degree_sequence, return_counts=True)\n",
    "print(\"Median Degree:\", degree_sequence[len(degree_sequence)//2])\n",
    "print(\"Mode Degree:\", node_counts[0][0])"
   ]
  },
  {
   "cell_type": "code",
   "execution_count": 5,
   "metadata": {},
   "outputs": [
    {
     "name": "stdout",
     "output_type": "stream",
     "text": [
      "Minimum indegree: 0\n",
      "Maximum indegree: 33\n",
      "Mean indegree: 1.362\n",
      "Median indegree: 1\n",
      "Mode indegree: 0\n",
      "\n",
      "Minimum outdegrees: 0\n",
      "Maximum outdegrees: 263\n",
      "Mean outdegree: 1.362\n",
      "Median outdegree: 1\n",
      "Mode outdegree: 0\n"
     ]
    }
   ],
   "source": [
    "indegrees = dict(G.in_degree())\n",
    "outdegrees = dict(G.out_degree())\n",
    "print(\"Minimum indegree:\", min(indegrees.values()))\n",
    "print(\"Maximum indegree:\", max(indegrees.values()))\n",
    "print(\"Mean indegree:\", sum(indegrees.values()) / len(G))\n",
    "indegree_sequence = sorted((d for n, d in G.in_degree()), reverse=True)\n",
    "node_counts = np.unique(indegree_sequence, return_counts=True)\n",
    "print(\"Median indegree:\", degree_sequence[len(degree_sequence)//2])\n",
    "print(\"Mode indegree:\", node_counts[0][0])\n",
    "\n",
    "print(\"\\nMinimum outdegrees:\", min(outdegrees.values()))\n",
    "print(\"Maximum outdegrees:\", max(outdegrees.values()))\n",
    "print(\"Mean outdegree:\", sum(outdegrees.values()) / len(G))\n",
    "outdegree_sequence = sorted((d for n, d in G.out_degree()), reverse=True)\n",
    "node_counts = np.unique(outdegree_sequence, return_counts=True)\n",
    "print(\"Median outdegree:\", degree_sequence[len(degree_sequence)//2])\n",
    "print(\"Mode outdegree:\", node_counts[0][0])"
   ]
  }
 ],
 "metadata": {
  "kernelspec": {
   "display_name": "env",
   "language": "python",
   "name": "python3"
  },
  "language_info": {
   "codemirror_mode": {
    "name": "ipython",
    "version": 3
   },
   "file_extension": ".py",
   "mimetype": "text/x-python",
   "name": "python",
   "nbconvert_exporter": "python",
   "pygments_lexer": "ipython3",
   "version": "3.10.13"
  }
 },
 "nbformat": 4,
 "nbformat_minor": 2
}
