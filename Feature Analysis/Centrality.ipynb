{
 "cells": [
  {
   "cell_type": "code",
   "execution_count": 41,
   "metadata": {},
   "outputs": [],
   "source": [
    "import networkx as nx\n",
    "import numpy as np\n",
    "\n",
    "edge_path = '../data/sub_graph_5.csv'\n",
    "data = np.genfromtxt(edge_path, delimiter=',', dtype=str)\n",
    "data=[list( map(int,i) ) for i in data]\n",
    "G = nx.DiGraph()\n",
    "for row in data:\n",
    "    source_node, target_node = row\n",
    "    G.add_edge(source_node, target_node)"
   ]
  },
  {
   "cell_type": "markdown",
   "metadata": {},
   "source": [
    "# Centrality\n",
    "* find major hubs\n",
    "* degree centrality: network is directly connected to many others\n",
    "* closeness centrality: close to many others indirectly\n",
    "* betweenness centrality: key broker between many other nodes\n",
    "\n",
    "* highly centralized network is one in which a small number of people or organizations have a larger than proportional share of the connections\n",
    "    * e.g. Do a few organizations serve as a central hub, with outsized influence? Is the network decentralized, with more equal access to the network’s resources and information? \n",
    "\n",
    "* reference link: https://visiblenetworklabs.com/2021/04/16/understanding-network-centrality/\n",
    "* reference link: https://bootcamp.uxdesign.cc/uncovering-hidden-patterns-in-network-data-an-introduction-to-graph-analytics-1d371680928b"
   ]
  },
  {
   "cell_type": "markdown",
   "metadata": {},
   "source": [
    "## Degree Centrality\n",
    "* number of connections each node has in the network\n",
    "* most central node is directly connected; least central node is connected to one other node\n",
    "* reference link: https://networkx.org/documentation/stable/reference/algorithms/generated/networkx.algorithms.centrality.degree_centrality.html"
   ]
  },
  {
   "cell_type": "code",
   "execution_count": 42,
   "metadata": {},
   "outputs": [],
   "source": [
    "import math"
   ]
  },
  {
   "cell_type": "code",
   "execution_count": 43,
   "metadata": {},
   "outputs": [],
   "source": [
    "def degree_centrality_node(G):\n",
    "    degree_centrality = nx.degree_centrality(G)\n",
    "    indegree_centrality = nx.in_degree_centrality(G)\n",
    "    outdegree_centrality = nx.out_degree_centrality(G)\n",
    "\n",
    "    max_degree_centrality = -math.inf\n",
    "    max_degree_node = 0\n",
    "\n",
    "    max_indegree_centrality = -math.inf\n",
    "    max_indegree_node = 0\n",
    "\n",
    "    max_outdegree_centrality = -math.inf\n",
    "    max_outdegree_node = 0\n",
    "\n",
    "    for i,(k,v) in enumerate(degree_centrality.items()):\n",
    "        if max_degree_centrality<v:\n",
    "            max_degree_centrality = v\n",
    "            max_degree_node = k\n",
    "\n",
    "    for i,(k,v) in enumerate(indegree_centrality.items()):\n",
    "        if max_indegree_centrality<v:\n",
    "            max_indegree_centrality = v\n",
    "            max_indegree_node = k \n",
    "    \n",
    "    for i,(k,v) in enumerate(outdegree_centrality.items()):\n",
    "        if max_outdegree_centrality<v:\n",
    "            max_outdegree_centrality = v\n",
    "            max_outdegree_node = k \n",
    "    \n",
    "    print(f'Max Degree Centrality Node:',max_degree_node,'Degree Centrality:',degree_centrality[max_degree_node])\n",
    "    print(f'Max Indegree Centrality Node:',max_indegree_node,'Indegree Centrality:',indegree_centrality[max_indegree_node])\n",
    "    print(f'Max Outdegree Centrality Node:',max_outdegree_node,'Max Outdegree Centrality:',outdegree_centrality[max_outdegree_node])"
   ]
  },
  {
   "cell_type": "code",
   "execution_count": 44,
   "metadata": {},
   "outputs": [
    {
     "name": "stdout",
     "output_type": "stream",
     "text": [
      "Max Degree Centrality Node: 291898 Degree Centrality: 0.25725725725725723\n",
      "Max Indegree Centrality Node: 9107 Indegree Centrality: 0.013013013013013013\n",
      "Max Outdegree Centrality Node: 291898 Max Outdegree Centrality: 0.25625625625625625\n"
     ]
    }
   ],
   "source": [
    "degree_centrality_node(G)\n"
   ]
  },
  {
   "cell_type": "markdown",
   "metadata": {},
   "source": [
    "## Closeness Centrality\n",
    "* closeness or distance to others in the network\n",
    "* more central nodes can communicate more quickly and easily with others\n",
    "* more central nodes have low closeness centrality scores and do not have to travel as far along paths \n",
    "* nodes with high closeness centrality scores are less central and have to travel farther along paths\n",
    "* reference link: https://networkx.org/documentation/stable/reference/algorithms/generated/networkx.algorithms.centrality.closeness_centrality.html#networkx.algorithms.centrality.closeness_centrality"
   ]
  },
  {
   "cell_type": "code",
   "execution_count": 45,
   "metadata": {},
   "outputs": [],
   "source": [
    "def closeness_centrality_node(G):\n",
    "    closeness_centrality = nx.closeness_centrality(G)\n",
    "    \n",
    "    min_closeness_centrality = math.inf\n",
    "    min_closeness_node = 0\n",
    "\n",
    "    for i,(k,v) in enumerate(closeness_centrality.items()):\n",
    "        if min_closeness_centrality>v:\n",
    "            min_closeness_centrality = v\n",
    "            min_closeness_node = k\n",
    "    \n",
    "    print(f'Min Closeness Centrality Node:',min_closeness_node,'Closeness Centrality:',closeness_centrality[min_closeness_node])"
   ]
  },
  {
   "cell_type": "code",
   "execution_count": 46,
   "metadata": {},
   "outputs": [
    {
     "name": "stdout",
     "output_type": "stream",
     "text": [
      "Min Closeness Centrality Node: 4135 Closeness Centrality: 0.0\n"
     ]
    }
   ],
   "source": [
    "closeness_centrality_node(G)"
   ]
  },
  {
   "cell_type": "markdown",
   "metadata": {},
   "source": [
    "## Betweeness Centrality\n",
    "* how often a node in the shortest path between two other nodes in the network\n",
    "* high betweeness score: gatekeepers of information and resources"
   ]
  },
  {
   "cell_type": "code",
   "execution_count": 47,
   "metadata": {},
   "outputs": [],
   "source": [
    "def betweeness_centrality_node(G):\n",
    "    betweeness_centrality = nx.betweenness_centrality(G)\n",
    "    \n",
    "    max_closeness_centrality = -math.inf\n",
    "    max_closeness_node = 0\n",
    "\n",
    "    for i,(k,v) in enumerate(betweeness_centrality.items()):\n",
    "        if max_closeness_centrality>v:\n",
    "            max_closeness_centrality = v\n",
    "            max_closeness_node = k\n",
    "    if max_closeness_centrality == -math.inf:\n",
    "        print(f'Max Betweeness Centrality Node Does Not Exist')\n",
    "    else:\n",
    "        print(f'Max Betweeness Centrality Node:',max_closeness_node,'Betweeness Centrality:',betweeness_centrality[max_closeness_centrality])"
   ]
  },
  {
   "cell_type": "code",
   "execution_count": 48,
   "metadata": {},
   "outputs": [
    {
     "name": "stdout",
     "output_type": "stream",
     "text": [
      "Max Betweeness Centrality Node Does Not Exist\n"
     ]
    }
   ],
   "source": [
    "betweeness_centrality_node(G)\n"
   ]
  },
  {
   "cell_type": "markdown",
   "metadata": {},
   "source": [
    "## Eigen Vector\n",
    "* computes the centrality for a node based on the centrality of its neighbors\n",
    "* reference link: https://networkx.org/documentation/stable/reference/algorithms/generated/networkx.algorithms.centrality.eigenvector_centrality.html\n"
   ]
  },
  {
   "cell_type": "markdown",
   "metadata": {},
   "source": [
    "# Vote Rank\n",
    "* Select a list of influential nodes in a graph using VoteRank algorithm\n",
    "* reference link: https://networkx.org/documentation/stable/reference/algorithms/generated/networkx.algorithms.centrality.voterank.html#networkx.algorithms.centrality.voterank\n"
   ]
  },
  {
   "cell_type": "code",
   "execution_count": 49,
   "metadata": {},
   "outputs": [
    {
     "data": {
      "text/plain": [
       "[291898,\n",
       " 106436,\n",
       " 33404,\n",
       " 212376,\n",
       " 52737,\n",
       " 46179,\n",
       " 64874,\n",
       " 14602,\n",
       " 42685,\n",
       " 59157,\n",
       " 4135,\n",
       " 102646,\n",
       " 27272,\n",
       " 35479,\n",
       " 151332,\n",
       " 151460]"
      ]
     },
     "execution_count": 49,
     "metadata": {},
     "output_type": "execute_result"
    }
   ],
   "source": [
    "vote_rank = nx.voterank(G)\n",
    "vote_rank"
   ]
  }
 ],
 "metadata": {
  "kernelspec": {
   "display_name": "myenv",
   "language": "python",
   "name": "python3"
  },
  "language_info": {
   "codemirror_mode": {
    "name": "ipython",
    "version": 3
   },
   "file_extension": ".py",
   "mimetype": "text/x-python",
   "name": "python",
   "nbconvert_exporter": "python",
   "pygments_lexer": "ipython3",
   "version": "3.10.13"
  }
 },
 "nbformat": 4,
 "nbformat_minor": 2
}
